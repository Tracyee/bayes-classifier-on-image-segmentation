{
 "cells": [
  {
   "cell_type": "code",
   "execution_count": 1,
   "metadata": {
    "ExecuteTime": {
     "end_time": "2020-04-18T10:18:31.083355Z",
     "start_time": "2020-04-18T10:18:30.648098Z"
    }
   },
   "outputs": [],
   "source": [
    "from scipy.stats import multivariate_normal\n",
    "import numpy as np\n",
    "import scipy.io\n",
    "mat = scipy.io.loadmat('array_sample.mat')\n",
    "rgb = mat['array_sample']\n",
    "rgb = np.delete(rgb, 0, axis=1)\n",
    "rgb = rgb.tolist()\n",
    "\n",
    "class1 = [rgb[i] for i in range(len(rgb)) if rgb[i][3] == 1]\n",
    "class2 = [rgb[i] for i in range(len(rgb)) if rgb[i][3] == -1]\n",
    "\n",
    "# compute the prior probability\n",
    "prior1 = len(class1) / (len(class1) + len(class2))\n",
    "prior2 = len(class2) / (len(class1) + len(class2))\n",
    "\n",
    "# compute the mean and covariance for 2 classes\n",
    "class1 = np.asarray(class1)\n",
    "class2 = np.asarray(class2)\n",
    "mu1 = np.mean(np.delete(class1, 3, axis=1), axis=0)\n",
    "mu2 = np.mean(np.delete(class2, 3, axis=1), axis=0)\n",
    "Sigma1 = np.cov(np.delete(class1, 3, axis=1), rowvar=False)\n",
    "Sigma2 = np.cov(np.delete(class2, 3, axis=1), rowvar=False)"
   ]
  },
  {
   "cell_type": "code",
   "execution_count": 43,
   "metadata": {
    "ExecuteTime": {
     "end_time": "2020-04-20T03:28:29.134416Z",
     "start_time": "2020-04-20T03:28:29.127450Z"
    }
   },
   "outputs": [
    {
     "data": {
      "text/plain": [
       "[[0.683991683991684, 0.316008316008316],\n",
       " [array([0.65280857, 0.36111285, 0.1624486 ]),\n",
       "  array([0.75050148, 0.71190983, 0.75877838])],\n",
       " [array([[0.02927777, 0.01255938, 0.00271681],\n",
       "         [0.01255938, 0.00902525, 0.0065936 ],\n",
       "         [0.00271681, 0.0065936 , 0.01111142]]),\n",
       "  array([[0.01696326, 0.01833529, 0.02183609],\n",
       "         [0.01833529, 0.02731822, 0.03871634],\n",
       "         [0.02183609, 0.03871634, 0.06444389]])]]"
      ]
     },
     "execution_count": 43,
     "metadata": {},
     "output_type": "execute_result"
    }
   ],
   "source": [
    "[[prior1, prior2],\n",
    "[mu1, mu2],\n",
    "[Sigma1, Sigma2]]"
   ]
  },
  {
   "cell_type": "code",
   "execution_count": 26,
   "metadata": {
    "ExecuteTime": {
     "end_time": "2020-04-18T10:32:02.042348Z",
     "start_time": "2020-04-18T10:32:02.034274Z"
    }
   },
   "outputs": [],
   "source": [
    "import cv2\n",
    "img = cv2.imread('309.bmp')\n",
    "# gray_img = cv2.cvtColor(img, cv2.COLOR_BGR2GRAY)\n",
    "mat2 = scipy.io.loadmat('Mask.mat')\n",
    "mask = mat2['Mask']\n",
    "img = cv2.bitwise_and(img, img, mask=mask) / 255\n",
    "# cv2.imshow('rgb image after being masked', img)\n",
    "# cv2.waitKey(0)\n"
   ]
  },
  {
   "cell_type": "code",
   "execution_count": 5,
   "metadata": {
    "ExecuteTime": {
     "end_time": "2020-04-18T10:20:15.212530Z",
     "start_time": "2020-04-18T10:20:15.205121Z"
    }
   },
   "outputs": [
    {
     "data": {
      "text/plain": [
       "array([[ 60,  56,  54, ...,  29,  29,  29],\n",
       "       [ 62,  59,  56, ...,  29,  29,  29],\n",
       "       [ 63,  60,  58, ...,  26,  26,  26],\n",
       "       ...,\n",
       "       [173, 167, 163, ...,  48,  47,  47],\n",
       "       [173, 167, 163, ...,  50,  49,  49],\n",
       "       [173, 167, 163, ...,  51,  51,  51]], dtype=uint8)"
      ]
     },
     "execution_count": 5,
     "metadata": {},
     "output_type": "execute_result"
    }
   ],
   "source": [
    "img[:,:,2]"
   ]
  },
  {
   "cell_type": "code",
   "execution_count": 6,
   "metadata": {
    "ExecuteTime": {
     "end_time": "2020-04-18T10:20:16.161205Z",
     "start_time": "2020-04-18T10:20:16.157087Z"
    }
   },
   "outputs": [
    {
     "data": {
      "text/plain": [
       "array([[0, 0, 0, ..., 0, 0, 0],\n",
       "       [0, 0, 0, ..., 0, 0, 0],\n",
       "       [0, 0, 0, ..., 0, 0, 0],\n",
       "       ...,\n",
       "       [0, 0, 0, ..., 0, 0, 0],\n",
       "       [0, 0, 0, ..., 0, 0, 0],\n",
       "       [0, 0, 0, ..., 0, 0, 0]], dtype=uint8)"
      ]
     },
     "execution_count": 6,
     "metadata": {},
     "output_type": "execute_result"
    }
   ],
   "source": [
    "mask[:]"
   ]
  },
  {
   "cell_type": "code",
   "execution_count": 25,
   "metadata": {
    "ExecuteTime": {
     "end_time": "2020-04-18T10:13:47.748190Z",
     "start_time": "2020-04-18T10:13:47.744715Z"
    }
   },
   "outputs": [],
   "source": [
    "img = cv2.bitwise_and(img, img, mask=mask)\n"
   ]
  },
  {
   "cell_type": "code",
   "execution_count": null,
   "metadata": {
    "ExecuteTime": {
     "start_time": "2020-04-18T10:14:14.694Z"
    }
   },
   "outputs": [],
   "source": [
    "cv2.imshow('rgb image after being masked', img)\n",
    "cv2.waitKey(0)"
   ]
  },
  {
   "cell_type": "code",
   "execution_count": 2,
   "metadata": {
    "ExecuteTime": {
     "end_time": "2020-04-18T10:18:34.508868Z",
     "start_time": "2020-04-18T10:18:34.505511Z"
    }
   },
   "outputs": [],
   "source": [
    "x = np.linspace(0, 5, 10, endpoint=False)"
   ]
  },
  {
   "cell_type": "code",
   "execution_count": 37,
   "metadata": {
    "ExecuteTime": {
     "end_time": "2020-04-18T10:34:37.912342Z",
     "start_time": "2020-04-18T10:34:37.907163Z"
    }
   },
   "outputs": [
    {
     "data": {
      "text/plain": [
       "True"
      ]
     },
     "execution_count": 37,
     "metadata": {},
     "output_type": "execute_result"
    }
   ],
   "source": [
    "img[0][0].all() == 0"
   ]
  },
  {
   "cell_type": "code",
   "execution_count": 15,
   "metadata": {
    "ExecuteTime": {
     "end_time": "2020-04-18T10:25:46.176031Z",
     "start_time": "2020-04-18T10:25:45.984587Z"
    }
   },
   "outputs": [
    {
     "data": {
      "text/plain": [
       "<matplotlib.contour.QuadContourSet at 0x7f8266c4e668>"
      ]
     },
     "execution_count": 15,
     "metadata": {},
     "output_type": "execute_result"
    },
    {
     "data": {
      "image/png": "[encoded data removed]",
      "text/plain": [
       "<Figure size 432x288 with 1 Axes>"
      ]
     },
     "metadata": {
      "needs_background": "light"
     },
     "output_type": "display_data"
    }
   ],
   "source": [
    "x, y = np.mgrid[-1:1:.01, -1:1:.01]\n",
    "pos = np.empty(x.shape + (2,))\n",
    "pos[:, :, 0] = x; pos[:, :, 1] = y\n",
    "rv = multivariate_normal([0.5, -0.2], [[2.0, 0.3], [0.3, 0.5]])\n",
    "import matplotlib.pyplot as plt\n",
    "%matplotlib inline\n",
    "plt.contourf(x, y, rv.pdf(pos))\n"
   ]
  },
  {
   "cell_type": "code",
   "execution_count": 19,
   "metadata": {
    "ExecuteTime": {
     "end_time": "2020-04-18T10:28:31.601853Z",
     "start_time": "2020-04-18T10:28:31.596072Z"
    }
   },
   "outputs": [
    {
     "data": {
      "text/plain": [
       "0.06610268567287654"
      ]
     },
     "execution_count": 19,
     "metadata": {},
     "output_type": "execute_result"
    }
   ],
   "source": [
    "rv.pdf(pos[0,0,:])"
   ]
  },
  {
   "cell_type": "code",
   "execution_count": 20,
   "metadata": {
    "ExecuteTime": {
     "end_time": "2020-04-18T10:28:38.378867Z",
     "start_time": "2020-04-18T10:28:38.374139Z"
    }
   },
   "outputs": [
    {
     "data": {
      "text/plain": [
       "array([-1., -1.])"
      ]
     },
     "execution_count": 20,
     "metadata": {},
     "output_type": "execute_result"
    }
   ],
   "source": [
    "pos[0,0,:]"
   ]
  },
  {
   "cell_type": "code",
   "execution_count": null,
   "metadata": {},
   "outputs": [],
   "source": []
  }
 ],
 "metadata": {
  "kernelspec": {
   "display_name": "Python 3",
   "language": "python",
   "name": "python3"
  },
  "language_info": {
   "codemirror_mode": {
    "name": "ipython",
    "version": 3
   },
   "file_extension": ".py",
   "mimetype": "text/x-python",
   "name": "python",
   "nbconvert_exporter": "python",
   "pygments_lexer": "ipython3",
   "version": "3.6.8"
  },
  "toc": {
   "base_numbering": 1,
   "nav_menu": {},
   "number_sections": true,
   "sideBar": true,
   "skip_h1_title": false,
   "title_cell": "Table of Contents",
   "title_sidebar": "Contents",
   "toc_cell": false,
   "toc_position": {},
   "toc_section_display": true,
   "toc_window_display": false
  }
 },
 "nbformat": 4,
 "nbformat_minor": 2
}
